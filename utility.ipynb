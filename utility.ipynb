{
 "cells": [
  {
   "cell_type": "code",
   "execution_count": 1,
   "metadata": {},
   "outputs": [],
   "source": [
    "import requests\n",
    "from bs4 import BeautifulSoup"
   ]
  },
  {
   "cell_type": "code",
   "execution_count": 2,
   "metadata": {},
   "outputs": [],
   "source": [
    "url = \"https://vega.github.io/vega/docs/schemes/\"\n",
    "req = requests.get(url)\n",
    "soup = BeautifulSoup(req.text, \"html.parser\")"
   ]
  },
  {
   "cell_type": "code",
   "execution_count": 6,
   "metadata": {},
   "outputs": [
    {
     "data": {
      "text/plain": [
       "['schemes',\n",
       " 'Required.',\n",
       " 'Categorical',\n",
       " 'Sequential Single-Hue',\n",
       " 'Sequential Multi-Hue',\n",
       " 'Diverging',\n",
       " 'Cyclical',\n",
       " 'accent',\n",
       " 'category10',\n",
       " 'category20',\n",
       " 'category20b',\n",
       " 'category20c',\n",
       " 'observable10',\n",
       " 'dark2',\n",
       " 'paired',\n",
       " 'pastel1',\n",
       " 'pastel2',\n",
       " 'set1',\n",
       " 'set2',\n",
       " 'set3',\n",
       " 'tableau10',\n",
       " 'tableau20',\n",
       " 'blues',\n",
       " 'tealblues',\n",
       " 'teals',\n",
       " 'greens',\n",
       " 'browns',\n",
       " 'oranges',\n",
       " 'reds',\n",
       " 'purples',\n",
       " 'warmgreys',\n",
       " 'greys',\n",
       " 'viridis',\n",
       " 'magma',\n",
       " 'inferno',\n",
       " 'plasma',\n",
       " 'cividis',\n",
       " 'turbo',\n",
       " 'bluegreen',\n",
       " 'bluepurple',\n",
       " 'goldgreen',\n",
       " 'goldorange',\n",
       " 'goldred',\n",
       " 'greenblue',\n",
       " 'orangered',\n",
       " 'purplebluegreen',\n",
       " 'purpleblue',\n",
       " 'purplered',\n",
       " 'redpurple',\n",
       " 'yellowgreenblue',\n",
       " 'yellowgreen',\n",
       " 'yelloworangebrown',\n",
       " 'yelloworangered',\n",
       " 'darkblue',\n",
       " 'darkgold',\n",
       " 'darkgreen',\n",
       " 'darkmulti',\n",
       " 'darkred',\n",
       " 'lightgreyred',\n",
       " 'lightgreyteal',\n",
       " 'lightmulti',\n",
       " 'lightorange',\n",
       " 'lighttealblue',\n",
       " 'blueorange',\n",
       " 'brownbluegreen',\n",
       " 'purplegreen',\n",
       " 'pinkyellowgreen',\n",
       " 'purpleorange',\n",
       " 'redblue',\n",
       " 'redgrey',\n",
       " 'redyellowblue',\n",
       " 'redyellowgreen',\n",
       " 'spectral',\n",
       " 'rainbow',\n",
       " 'sinebow']"
      ]
     },
     "execution_count": 6,
     "metadata": {},
     "output_type": "execute_result"
    }
   ],
   "source": [
    "schemes = soup.find_all(\"strong\")\n",
    "\n",
    "schemes = [scheme.text for scheme in schemes]\n",
    "schemes = [s for s in schemes if not s.isnumeric()]\n",
    "schemes\n",
    "\n"
   ]
  }
 ],
 "metadata": {
  "kernelspec": {
   "display_name": "base",
   "language": "python",
   "name": "python3"
  },
  "language_info": {
   "codemirror_mode": {
    "name": "ipython",
    "version": 3
   },
   "file_extension": ".py",
   "mimetype": "text/x-python",
   "name": "python",
   "nbconvert_exporter": "python",
   "pygments_lexer": "ipython3",
   "version": "3.11.4"
  }
 },
 "nbformat": 4,
 "nbformat_minor": 2
}
